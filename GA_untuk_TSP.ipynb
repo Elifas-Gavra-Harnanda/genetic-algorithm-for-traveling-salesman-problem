{
  "nbformat": 4,
  "nbformat_minor": 0,
  "metadata": {
    "colab": {
      "name": "GA untuk TSP",
      "provenance": [],
      "collapsed_sections": []
    },
    "kernelspec": {
      "name": "python3",
      "display_name": "Python 3"
    },
    "language_info": {
      "name": "python"
    }
  },
  "cells": [
    {
      "cell_type": "markdown",
      "source": [
        "Teknik Algoritma Genetik"
      ],
      "metadata": {
        "id": "yQ7JIPTAfCPm"
      }
    },
    {
      "cell_type": "code",
      "execution_count": null,
      "metadata": {
        "id": "FrY1RDzqrxu-"
      },
      "outputs": [],
      "source": [
        "#Import Library\n",
        "import numpy as np\n",
        "\n",
        "#Import Operator\n",
        "import random\n",
        "from array import *"
      ]
    },
    {
      "cell_type": "code",
      "source": [
        "from google.colab import drive\n",
        "drive.mount('/content/drive')"
      ],
      "metadata": {
        "colab": {
          "base_uri": "https://localhost:8080/"
        },
        "id": "MJC77pjZMkj3",
        "outputId": "8015d7e5-41f8-4d77-a608-be414a4504a0"
      },
      "execution_count": null,
      "outputs": [
        {
          "output_type": "stream",
          "name": "stdout",
          "text": [
            "Drive already mounted at /content/drive; to attempt to forcibly remount, call drive.mount(\"/content/drive\", force_remount=True).\n"
          ]
        }
      ]
    },
    {
      "cell_type": "code",
      "source": [
        "# Open input file\n",
        "infile = open('berlin52.tsp', 'r')\n",
        "\n",
        "# Read instance header\n",
        "Name = infile.readline().strip().split()[1] # NAME\n",
        "FileType = infile.readline().strip().split()[1] # TYPE\n",
        "Comment = infile.readline().strip().split()[1] # COMMENT\n",
        "Dimension = infile.readline().strip().split()[1] # DIMENSION\n",
        "EdgeWeightType = infile.readline().strip().split()[1] # EDGE_WEIGHT_TYPE\n",
        "infile.readline()\n",
        "\n",
        "# Read node list\n",
        "daftarLokasi = []\n",
        "N = int(Dimension)\n",
        "for i in range(0, N):\n",
        "    x,y = infile.readline().strip().split()[1:]\n",
        "    daftarLokasi.append([float(x), float(y)])\n",
        "\n",
        "# Close input file\n",
        "infile.close()\n",
        "print(\"  [X]\", \"     [Y]\")\n",
        "\n",
        "for i in daftarLokasi:\n",
        "    for j in i:\n",
        "        print(\"[\",j,end = \"]  \")\n",
        "    print()\n",
        "\n",
        "jumlahLokasi =  len(daftarLokasi)   \n",
        "print(\"\")\n",
        "print(\"total lokasi\",jumlahLokasi)"
      ],
      "metadata": {
        "id": "kmLTla6KsG3_",
        "colab": {
          "base_uri": "https://localhost:8080/"
        },
        "outputId": "b25751fe-ceb3-4584-8040-422541ffb9d0"
      },
      "execution_count": null,
      "outputs": [
        {
          "output_type": "stream",
          "name": "stdout",
          "text": [
            "  [X]      [Y]\n",
            "[ 565.0]  [ 575.0]  \n",
            "[ 25.0]  [ 185.0]  \n",
            "[ 345.0]  [ 750.0]  \n",
            "[ 945.0]  [ 685.0]  \n",
            "[ 845.0]  [ 655.0]  \n",
            "[ 880.0]  [ 660.0]  \n",
            "[ 25.0]  [ 230.0]  \n",
            "[ 525.0]  [ 1000.0]  \n",
            "[ 580.0]  [ 1175.0]  \n",
            "[ 650.0]  [ 1130.0]  \n",
            "[ 1605.0]  [ 620.0]  \n",
            "[ 1220.0]  [ 580.0]  \n",
            "[ 1465.0]  [ 200.0]  \n",
            "[ 1530.0]  [ 5.0]  \n",
            "[ 845.0]  [ 680.0]  \n",
            "[ 725.0]  [ 370.0]  \n",
            "[ 145.0]  [ 665.0]  \n",
            "[ 415.0]  [ 635.0]  \n",
            "[ 510.0]  [ 875.0]  \n",
            "[ 560.0]  [ 365.0]  \n",
            "[ 300.0]  [ 465.0]  \n",
            "[ 520.0]  [ 585.0]  \n",
            "[ 480.0]  [ 415.0]  \n",
            "[ 835.0]  [ 625.0]  \n",
            "[ 975.0]  [ 580.0]  \n",
            "[ 1215.0]  [ 245.0]  \n",
            "[ 1320.0]  [ 315.0]  \n",
            "[ 1250.0]  [ 400.0]  \n",
            "[ 660.0]  [ 180.0]  \n",
            "[ 410.0]  [ 250.0]  \n",
            "[ 420.0]  [ 555.0]  \n",
            "[ 575.0]  [ 665.0]  \n",
            "[ 1150.0]  [ 1160.0]  \n",
            "[ 700.0]  [ 580.0]  \n",
            "[ 685.0]  [ 595.0]  \n",
            "[ 685.0]  [ 610.0]  \n",
            "[ 770.0]  [ 610.0]  \n",
            "[ 795.0]  [ 645.0]  \n",
            "[ 720.0]  [ 635.0]  \n",
            "[ 760.0]  [ 650.0]  \n",
            "[ 475.0]  [ 960.0]  \n",
            "[ 95.0]  [ 260.0]  \n",
            "[ 875.0]  [ 920.0]  \n",
            "[ 700.0]  [ 500.0]  \n",
            "[ 555.0]  [ 815.0]  \n",
            "[ 830.0]  [ 485.0]  \n",
            "[ 1170.0]  [ 65.0]  \n",
            "[ 830.0]  [ 610.0]  \n",
            "[ 605.0]  [ 625.0]  \n",
            "[ 595.0]  [ 360.0]  \n",
            "[ 1340.0]  [ 725.0]  \n",
            "[ 1740.0]  [ 245.0]  \n",
            "\n",
            "total lokasi 52\n"
          ]
        }
      ]
    },
    {
      "cell_type": "code",
      "source": [
        "#Inisialisasi Populasi secara acak\n",
        "\n",
        "#Array P diinisialisasi sebagai array integer\n",
        "\n",
        "#Solusi awal dibuat dengan random permutation\n",
        "\n",
        "def initPopulasi(ukuranPopulasi,jumlahLokasi):\n",
        "  P = np.empty((ukuranPopulasi,jumlahLokasi))\n",
        "  P = P.astype('int')\n",
        "  for i in range(ukuranPopulasi):\n",
        "    I = np.random.permutation(jumlahLokasi)\n",
        "    for j in range(jumlahLokasi):\n",
        "      P[i][j]=I[j]\n",
        "  return P\n",
        "\n",
        "ukuranPopulasi = 10\n",
        "P = initPopulasi (ukuranPopulasi,jumlahLokasi)\n",
        "print(P)"
      ],
      "metadata": {
        "colab": {
          "base_uri": "https://localhost:8080/"
        },
        "id": "UFFAQ-ygsk5G",
        "outputId": "9bb9b827-5638-454a-a0d4-32916bfd193b"
      },
      "execution_count": null,
      "outputs": [
        {
          "output_type": "stream",
          "name": "stdout",
          "text": [
            "[[39  9 13 42 45 26 11 49 22  3 32 35 36  7 27 41  6 47 28 14  8 12 37 48\n",
            "   2 17 15 24 21 19 40  4  1 38 30 46 43 34 29  0 20  5 33 51 23 10 16 44\n",
            "  25 18 50 31]\n",
            " [ 5 15 40 19 29  9 37 30 27 20 12 32  6 22 28 34 49 31 16  3 36  7 21 33\n",
            "   2  0 50 35 13 48 46 23 42  8 14 24 11 26 17 47  4 45 38 25 51  1 43 39\n",
            "  18 41 44 10]\n",
            " [ 2 23 19 26 44 14 34 27 37 21 17 22 35 47  7  9 24 18 39 42  5 16 51 12\n",
            "  45 43 31  6 20 32 36  3 40 49 10 38 33 11 50  1  8 46 30 29 15  4 13 25\n",
            "  28  0 48 41]\n",
            " [20 27 48  0  8 36 19 35 30 47 16 42  3 50  4 29  2 23 44  6 45 37 13 15\n",
            "  21 26  1  5 25 17 38 39 28 49 10 24 31  7 51  9 11 32 12 34 18 14 46 43\n",
            "  33 22 41 40]\n",
            " [46 24 12 25 37 36  2 50  9 19 39 47 15 29  8 14 17 43 18 30 45 42 22 28\n",
            "  23 44 20 21  0 48 32 41 33  3 40 51  1 27  7 34 10 26 31 11 13 16  5  4\n",
            "   6 35 49 38]\n",
            " [35  8 14 39  5 26 41 18 22 16 42 40 50 28 21 43 24 48 13  1 10  7 20 11\n",
            "  15  4 46 30 25  2 49 12 31 38 34 44 29 19  0 33 27 36 45 23  6 17 51 32\n",
            "   9  3 47 37]\n",
            " [22 32  8  3 20 42 24 16 39  7 44 43 28 49 17 35 34 33 51  6 37 15 11  0\n",
            "   9 41 30 38 36 47 10 46  4 29 23 12 40 18 50 26 48 31 14 21 13  1 19 45\n",
            "  25 27  5  2]\n",
            " [39 29 10 31 19  1 20 40 23 41  7 21  8 15 48 46 22  9 26 25 30 50  0 43\n",
            "   2 28  6 37 33 38 27 24 35 42 44 51 14 32  5 18 34  3 16 49 47 17 13 12\n",
            "  45 11 36  4]\n",
            " [30  5 10  7 42 48 14  9 24 15 33  1 16 29 35 28 44 21 34  3  0 13  6 51\n",
            "  23 45 49 17 31 47 37 32 26 50 18  8 43 39  4  2 40 20 22 12 27 41 46 25\n",
            "  19 11 36 38]\n",
            " [ 0 39 15 51  2 32 27 14 44 20 23 13 25 34  6 26 47 12 29 30 28 43 41 38\n",
            "   7 24 22  9  4  5  8 35 11 19 50 42 40 36 49 46 37  1 16 21 45 10 33 18\n",
            "   3 17 31 48]]\n"
          ]
        }
      ]
    },
    {
      "cell_type": "code",
      "source": [
        "#Membuat Fungsi Objektif\n",
        "\n",
        "#Jarak yang diukur adalah Jarak Euclidian\n",
        "\n",
        "def fungsiObjectif(populasi,daftarLokasi):\n",
        "  sz = populasi.shape\n",
        "  ukuranPopulasi = sz[0]\n",
        "  jumlahLokasi = sz[1]\n",
        "\n",
        "  matrikJarak = np.empty((ukuranPopulasi))\n",
        "  matrikJarak = matrikJarak.astype('float')\n",
        "  n = len(daftarLokasi)\n",
        "\n",
        "  for i in range(ukuranPopulasi):\n",
        "    jarak = 0\n",
        "    for j in range(n-1):\n",
        "      jrkX = daftarLokasi[populasi[i][j]][0]-daftarLokasi[populasi[i][j+1]][0]\n",
        "      jrkY = daftarLokasi[populasi[i][j]][1]-daftarLokasi[populasi[i][j+1]][1]\n",
        "      d = np.sqrt(jrkX**2 + jrkY**2 )   \n",
        "      jarak = jarak  + d \n",
        "      \n",
        "    dn =  np.sqrt((daftarLokasi[populasi[i][n-1]][0]-daftarLokasi[populasi[i][0]][0])**2+ (daftarLokasi[populasi[i][n-1]][1]-daftarLokasi[populasi[i][0]][1])**2 )\n",
        "    jarak = jarak  + dn\n",
        "    matrikJarak[i] = jarak\n",
        "\n",
        "  return matrikJarak\n",
        "\n",
        "fitP = fungsiObjectif(P,daftarLokasi)\n",
        "print(fitP)\n",
        "#print(fitP.dtype)"
      ],
      "metadata": {
        "colab": {
          "base_uri": "https://localhost:8080/"
        },
        "id": "Nv9bFz7nssoP",
        "outputId": "492c7624-c8a3-487b-c5b0-2b348cbb5e39"
      },
      "execution_count": null,
      "outputs": [
        {
          "output_type": "stream",
          "name": "stdout",
          "text": [
            "[31221.26393461 30083.48559839 27760.7302374  30905.62712301\n",
            " 30675.7794309  30756.89117644 28741.11980409 29555.83434119\n",
            " 27298.00404395 29850.99258996]\n"
          ]
        }
      ]
    },
    {
      "cell_type": "code",
      "source": [
        "#Seleksi menggunakan Metode Tournamen\n",
        "\n",
        "#Ukuran Tournamen k = 2\n",
        "\n",
        "#Jumlah Induk yang dipilih adalah 2\n",
        "\n",
        "def seleksi (P,fsObj):\n",
        "  jmlInduk = 2\n",
        "  sz = P.shape\n",
        "  ukuranPopulasi = sz[0]\n",
        "  jumlahLokasi = sz[1]\n",
        "\n",
        "  Induk = np.empty((jmlInduk,jumlahLokasi))\n",
        "  Induk = Induk.astype('int')\n",
        "  \n",
        "  for i in range (2):\n",
        "    #memilih dua individu secara acak \n",
        "    r1 = random.randint(0,ukuranPopulasi-1)\n",
        "    r2 = random.randint(0,ukuranPopulasi-1)\n",
        "    \n",
        "    if  fsObj[r1] < fsObj [r2]:\n",
        "      for j in range(jumlahLokasi):\n",
        "        Induk [i][j] = P[r1][j]\n",
        "    else:\n",
        "      for j in range(jumlahLokasi):\n",
        "        Induk [i][j] = P[r2][j]\n",
        "  return Induk\n",
        "\n",
        "Induk = seleksi(P,fitP)\n",
        "print(Induk)"
      ],
      "metadata": {
        "colab": {
          "base_uri": "https://localhost:8080/"
        },
        "id": "ys3PJ2t-syMA",
        "outputId": "541222ff-21a4-4e0e-9295-21f7b338891a"
      },
      "execution_count": null,
      "outputs": [
        {
          "output_type": "stream",
          "name": "stdout",
          "text": [
            "[[39  9 13 42 45 26 11 49 22  3 32 35 36  7 27 41  6 47 28 14  8 12 37 48\n",
            "   2 17 15 24 21 19 40  4  1 38 30 46 43 34 29  0 20  5 33 51 23 10 16 44\n",
            "  25 18 50 31]\n",
            " [39 29 10 31 19  1 20 40 23 41  7 21  8 15 48 46 22  9 26 25 30 50  0 43\n",
            "   2 28  6 37 33 38 27 24 35 42 44 51 14 32  5 18 34  3 16 49 47 17 13 12\n",
            "  45 11 36  4]]\n"
          ]
        }
      ]
    },
    {
      "cell_type": "code",
      "source": [
        "#Rekombinasi menggunakan Metode Order Crossover (OX) Jumlah anak yang dihasilkan adalah 2\n",
        "#crossover \n",
        "\n",
        "def PMX(Induk):\n",
        "  Induk = seleksi(P,fitP)\n",
        "  sz = Induk.shape\n",
        "  brs = sz[0]\n",
        "  kol = sz[1]\n",
        "\n",
        "  I1 = np.empty((kol))\n",
        "  I2 = np.empty((kol))\n",
        "  A1 = np.empty((kol))\n",
        "  A2 = np.empty((kol))\n",
        "  Anak = np.empty((2,kol))\n",
        "  Anak = Anak.astype('int')\n",
        "\n",
        "  for i in range(kol):\n",
        "    I1[i]=Induk[0][i]\n",
        "    I2[i]=Induk[1][i]\n",
        "\n",
        "  r1 = random.randint(1,kol-2)\n",
        "\n",
        "  for i0 in range(r1): \n",
        "    A1[i0] = I1[i0]\n",
        "    A2[i0] = I2[i0]\n",
        "\n",
        "  batasCek1 = r1\n",
        "  batasCek2 = r1\n",
        "\n",
        "  for i in range(kol):\n",
        "    m = (i+r1)%kol\n",
        "\n",
        "    n1 = I1[m] \n",
        "    n2 = I2[m]\n",
        "\n",
        "    #mengecek apakah Lokasi tertentu sudah ada di anak\n",
        "\n",
        "    idxAda1 = 0\n",
        "    idxAda2 = 0\n",
        "    for j1 in range(batasCek1): \n",
        "      \n",
        "      if batasCek1>(kol):\n",
        "        idxAda1 = 1\n",
        "\n",
        "      if A1[j1] == n2: \n",
        "        idxAda1 = 1\n",
        "            \n",
        "    for j2 in range(batasCek2): \n",
        "      \n",
        "      if batasCek2>(kol):\n",
        "        idxAda2 = 1\n",
        "\n",
        "      if A2[j2] == n1: \n",
        "        idxAda2 = 1\n",
        "\n",
        "    if idxAda1 == 0:\n",
        "      A1[batasCek1] = n2\n",
        "      batasCek1 = batasCek1 +1\n",
        "   \n",
        "    if idxAda2 == 0:\n",
        "      A2[batasCek2] = n1\n",
        "      batasCek2 = batasCek2 +1\n",
        "   \n",
        "  for i in range(kol):\n",
        "    Anak[0][i]=A1[i]\n",
        "    Anak[1][i]=A2[i]\n",
        "\n",
        "  return Anak\n",
        "\n",
        "AnakCX = PMX(Induk)\n",
        "print(\"Anak :\",AnakCX)"
      ],
      "metadata": {
        "id": "uI9RIcT4s3OF",
        "outputId": "c26a6e09-b99b-426c-fc90-00e6c3404e66",
        "colab": {
          "base_uri": "https://localhost:8080/"
        }
      },
      "execution_count": null,
      "outputs": [
        {
          "output_type": "stream",
          "name": "stdout",
          "text": [
            "Anak : [[39 29 10 31 19  1 20 35 30 47 16 42  3 50  4  2 23 44  6 45 37 13 15 21\n",
            "  26  5 25 17 38 28 49 24  7 51  9 11 32 12 34 18 14 46 43 33 22 41 40 27\n",
            "  48  0  8 36]\n",
            " [20 27 48  0  8 36 19 40 23 41  7 21 15 46 22  9 26 25 30 50 43  2 28  6\n",
            "  37 33 38 24 35 42 44 51 14 32  5 18 34  3 16 49 47 17 13 12 45 11  4 39\n",
            "  29 10 31  1]]\n"
          ]
        }
      ]
    },
    {
      "cell_type": "markdown",
      "source": [
        "Mutasi dengan Swap"
      ],
      "metadata": {
        "id": "HnGjYi0LeXGu"
      }
    },
    {
      "cell_type": "code",
      "source": [
        "#Index Lokasi yang di Swap pada kedua anak sama\n",
        "\n",
        "def MutasiSwap(Induk):\n",
        "  sz = Induk.shape\n",
        "  brs = sz[0]\n",
        "  kol = sz[1]\n",
        "\n",
        "  Anak = np.empty((2,kol))\n",
        "  Anak = Anak.astype('int')\n",
        "\n",
        "  Anak = Induk\n",
        "\n",
        "  r1 = random.randint(0,kol-1)\n",
        "  r2 = random.randint(0,kol-1)\n",
        "\n",
        "  while r1 == r2:\n",
        "    r2 = random.randint(0,kol-1)\n",
        "  \n",
        "  if r1 < r2:\n",
        "    rs1 = r1\n",
        "    rs2 = r2\n",
        "  else:\n",
        "    rs1 = r2\n",
        "    rs2 = r1\n",
        "\n",
        "  I1rs1 = Induk [0][rs1]\n",
        "  I1rs2 = Induk [0][rs2]\n",
        "  I2rs1 = Induk [1][rs1]\n",
        "  I2rs2 = Induk [1][rs2]\n",
        "\n",
        "  Anak[0][rs1] = I1rs2\n",
        "  Anak[0][rs2] = I1rs1\n",
        "  Anak[1][rs1] = I2rs2\n",
        "  Anak[1][rs2] = I2rs1\n",
        "\n",
        "  return Anak\n",
        "\n",
        "print(\"AnakCX :\",AnakCX)\n",
        "AnakM = MutasiSwap(AnakCX)\n",
        "print(\"AnakM :\",AnakM)"
      ],
      "metadata": {
        "id": "fYFHsDrks7fE",
        "colab": {
          "base_uri": "https://localhost:8080/"
        },
        "outputId": "48ec6a98-23ad-418c-c028-d63ddce45194"
      },
      "execution_count": null,
      "outputs": [
        {
          "output_type": "stream",
          "name": "stdout",
          "text": [
            "AnakCX : [[39 29 10 31 19  1 20 35 30 47 16 42  3 50  4  2 23 44  6 45 37 13 15 21\n",
            "  26  5 25 17 38 28 49 24  7 51  9 11 32 12 34 18 14 46 43 33 22 41 40 27\n",
            "  48  0  8 36]\n",
            " [20 27 48  0  8 36 19 40 23 41  7 21 15 46 22  9 26 25 30 50 43  2 28  6\n",
            "  37 33 38 24 35 42 44 51 14 32  5 18 34  3 16 49 47 17 13 12 45 11  4 39\n",
            "  29 10 31  1]]\n",
            "AnakM : [[39 29 10 31 19  1 20 35 30 47 16 42  3 50  4 13 23 44  6 45 37  2 15 21\n",
            "  26  5 25 17 38 28 49 24  7 51  9 11 32 12 34 18 14 46 43 33 22 41 40 27\n",
            "  48  0  8 36]\n",
            " [20 27 48  0  8 36 19 40 23 41  7 21 15 46 22  2 26 25 30 50 43  9 28  6\n",
            "  37 33 38 24 35 42 44 51 14 32  5 18 34  3 16 49 47 17 13 12 45 11  4 39\n",
            "  29 10 31  1]]\n"
          ]
        }
      ]
    },
    {
      "cell_type": "markdown",
      "source": [
        "Elitism (steady state replacement)"
      ],
      "metadata": {
        "id": "A0g17qUohxfL"
      }
    },
    {
      "cell_type": "code",
      "source": [
        "def Elitism(P,Anak,fitP,fitAnak):\n",
        "  szP = P.shape\n",
        "  brsP = szP[0]\n",
        "  kolP = szP[1]\n",
        "  szA = Anak.shape\n",
        "  brsA = szA[0]\n",
        "  kolA = szA[1]\n",
        "\n",
        "  #print (fitP)\n",
        "\n",
        "  for i in range(brsA):\n",
        "    iJelek = fitP.max()\n",
        "    idxJelek = fitP.argmax()\n",
        "\n",
        "    if fitAnak[i]<iJelek:\n",
        "      fitP[idxJelek] = fitAnak[i]\n",
        "      for j in range (kolP):\n",
        "        P[idxJelek][j] = Anak[i][j]\n",
        "  \n",
        "  return [P,fitP]\n",
        "\n",
        "fitAnak = fungsiObjectif(AnakM,daftarLokasi)\n",
        "print(P)\n",
        "print(AnakM)\n",
        "print(fitP)\n",
        "print(fitAnak)\n",
        "P = Elitism (P,AnakM,fitP,fitAnak)\n",
        "print(P)\n",
        "print(fitP)"
      ],
      "metadata": {
        "colab": {
          "base_uri": "https://localhost:8080/"
        },
        "id": "Ps1UqxQ2esBP",
        "outputId": "dc8f0771-7664-4ddc-90da-c0c6e0743665"
      },
      "execution_count": null,
      "outputs": [
        {
          "output_type": "stream",
          "name": "stdout",
          "text": [
            "[[39  9 13 42 45 26 11 49 22  3 32 35 36  7 27 41  6 47 28 14  8 12 37 48\n",
            "   2 17 15 24 21 19 40  4  1 38 30 46 43 34 29  0 20  5 33 51 23 10 16 44\n",
            "  25 18 50 31]\n",
            " [ 5 15 40 19 29  9 37 30 27 20 12 32  6 22 28 34 49 31 16  3 36  7 21 33\n",
            "   2  0 50 35 13 48 46 23 42  8 14 24 11 26 17 47  4 45 38 25 51  1 43 39\n",
            "  18 41 44 10]\n",
            " [ 2 23 19 26 44 14 34 27 37 21 17 22 35 47  7  9 24 18 39 42  5 16 51 12\n",
            "  45 43 31  6 20 32 36  3 40 49 10 38 33 11 50  1  8 46 30 29 15  4 13 25\n",
            "  28  0 48 41]\n",
            " [20 27 48  0  8 36 19 35 30 47 16 42  3 50  4 29  2 23 44  6 45 37 13 15\n",
            "  21 26  1  5 25 17 38 39 28 49 10 24 31  7 51  9 11 32 12 34 18 14 46 43\n",
            "  33 22 41 40]\n",
            " [46 24 12 25 37 36  2 50  9 19 39 47 15 29  8 14 17 43 18 30 45 42 22 28\n",
            "  23 44 20 21  0 48 32 41 33  3 40 51  1 27  7 34 10 26 31 11 13 16  5  4\n",
            "   6 35 49 38]\n",
            " [35  8 14 39  5 26 41 18 22 16 42 40 50 28 21 43 24 48 13  1 10  7 20 11\n",
            "  15  4 46 30 25  2 49 12 31 38 34 44 29 19  0 33 27 36 45 23  6 17 51 32\n",
            "   9  3 47 37]\n",
            " [22 32  8  3 20 42 24 16 39  7 44 43 28 49 17 35 34 33 51  6 37 15 11  0\n",
            "   9 41 30 38 36 47 10 46  4 29 23 12 40 18 50 26 48 31 14 21 13  1 19 45\n",
            "  25 27  5  2]\n",
            " [39 29 10 31 19  1 20 40 23 41  7 21  8 15 48 46 22  9 26 25 30 50  0 43\n",
            "   2 28  6 37 33 38 27 24 35 42 44 51 14 32  5 18 34  3 16 49 47 17 13 12\n",
            "  45 11 36  4]\n",
            " [30  5 10  7 42 48 14  9 24 15 33  1 16 29 35 28 44 21 34  3  0 13  6 51\n",
            "  23 45 49 17 31 47 37 32 26 50 18  8 43 39  4  2 40 20 22 12 27 41 46 25\n",
            "  19 11 36 38]\n",
            " [ 0 39 15 51  2 32 27 14 44 20 23 13 25 34  6 26 47 12 29 30 28 43 41 38\n",
            "   7 24 22  9  4  5  8 35 11 19 50 42 40 36 49 46 37  1 16 21 45 10 33 18\n",
            "   3 17 31 48]]\n",
            "[[39 29 10 31 19  1 20 35 30 47 16 42  3 50  4 13 23 44  6 45 37  2 15 21\n",
            "  26  5 25 17 38 28 49 24  7 51  9 11 32 12 34 18 14 46 43 33 22 41 40 27\n",
            "  48  0  8 36]\n",
            " [20 27 48  0  8 36 19 40 23 41  7 21 15 46 22  2 26 25 30 50 43  9 28  6\n",
            "  37 33 38 24 35 42 44 51 14 32  5 18 34  3 16 49 47 17 13 12 45 11  4 39\n",
            "  29 10 31  1]]\n",
            "[31221.26393461 30083.48559839 27760.7302374  30905.62712301\n",
            " 30675.7794309  30756.89117644 28741.11980409 29555.83434119\n",
            " 27298.00404395 29850.99258996]\n",
            "[30570.66665747 30129.97679708]\n",
            "[array([[39, 29, 10, 31, 19,  1, 20, 35, 30, 47, 16, 42,  3, 50,  4, 13,\n",
            "        23, 44,  6, 45, 37,  2, 15, 21, 26,  5, 25, 17, 38, 28, 49, 24,\n",
            "         7, 51,  9, 11, 32, 12, 34, 18, 14, 46, 43, 33, 22, 41, 40, 27,\n",
            "        48,  0,  8, 36],\n",
            "       [ 5, 15, 40, 19, 29,  9, 37, 30, 27, 20, 12, 32,  6, 22, 28, 34,\n",
            "        49, 31, 16,  3, 36,  7, 21, 33,  2,  0, 50, 35, 13, 48, 46, 23,\n",
            "        42,  8, 14, 24, 11, 26, 17, 47,  4, 45, 38, 25, 51,  1, 43, 39,\n",
            "        18, 41, 44, 10],\n",
            "       [ 2, 23, 19, 26, 44, 14, 34, 27, 37, 21, 17, 22, 35, 47,  7,  9,\n",
            "        24, 18, 39, 42,  5, 16, 51, 12, 45, 43, 31,  6, 20, 32, 36,  3,\n",
            "        40, 49, 10, 38, 33, 11, 50,  1,  8, 46, 30, 29, 15,  4, 13, 25,\n",
            "        28,  0, 48, 41],\n",
            "       [20, 27, 48,  0,  8, 36, 19, 40, 23, 41,  7, 21, 15, 46, 22,  2,\n",
            "        26, 25, 30, 50, 43,  9, 28,  6, 37, 33, 38, 24, 35, 42, 44, 51,\n",
            "        14, 32,  5, 18, 34,  3, 16, 49, 47, 17, 13, 12, 45, 11,  4, 39,\n",
            "        29, 10, 31,  1],\n",
            "       [46, 24, 12, 25, 37, 36,  2, 50,  9, 19, 39, 47, 15, 29,  8, 14,\n",
            "        17, 43, 18, 30, 45, 42, 22, 28, 23, 44, 20, 21,  0, 48, 32, 41,\n",
            "        33,  3, 40, 51,  1, 27,  7, 34, 10, 26, 31, 11, 13, 16,  5,  4,\n",
            "         6, 35, 49, 38],\n",
            "       [35,  8, 14, 39,  5, 26, 41, 18, 22, 16, 42, 40, 50, 28, 21, 43,\n",
            "        24, 48, 13,  1, 10,  7, 20, 11, 15,  4, 46, 30, 25,  2, 49, 12,\n",
            "        31, 38, 34, 44, 29, 19,  0, 33, 27, 36, 45, 23,  6, 17, 51, 32,\n",
            "         9,  3, 47, 37],\n",
            "       [22, 32,  8,  3, 20, 42, 24, 16, 39,  7, 44, 43, 28, 49, 17, 35,\n",
            "        34, 33, 51,  6, 37, 15, 11,  0,  9, 41, 30, 38, 36, 47, 10, 46,\n",
            "         4, 29, 23, 12, 40, 18, 50, 26, 48, 31, 14, 21, 13,  1, 19, 45,\n",
            "        25, 27,  5,  2],\n",
            "       [39, 29, 10, 31, 19,  1, 20, 40, 23, 41,  7, 21,  8, 15, 48, 46,\n",
            "        22,  9, 26, 25, 30, 50,  0, 43,  2, 28,  6, 37, 33, 38, 27, 24,\n",
            "        35, 42, 44, 51, 14, 32,  5, 18, 34,  3, 16, 49, 47, 17, 13, 12,\n",
            "        45, 11, 36,  4],\n",
            "       [30,  5, 10,  7, 42, 48, 14,  9, 24, 15, 33,  1, 16, 29, 35, 28,\n",
            "        44, 21, 34,  3,  0, 13,  6, 51, 23, 45, 49, 17, 31, 47, 37, 32,\n",
            "        26, 50, 18,  8, 43, 39,  4,  2, 40, 20, 22, 12, 27, 41, 46, 25,\n",
            "        19, 11, 36, 38],\n",
            "       [ 0, 39, 15, 51,  2, 32, 27, 14, 44, 20, 23, 13, 25, 34,  6, 26,\n",
            "        47, 12, 29, 30, 28, 43, 41, 38,  7, 24, 22,  9,  4,  5,  8, 35,\n",
            "        11, 19, 50, 42, 40, 36, 49, 46, 37,  1, 16, 21, 45, 10, 33, 18,\n",
            "         3, 17, 31, 48]]), array([30570.66665747, 30083.48559839, 27760.7302374 , 30129.97679708,\n",
            "       30675.7794309 , 30756.89117644, 28741.11980409, 29555.83434119,\n",
            "       27298.00404395, 29850.99258996])]\n",
            "[30570.66665747 30083.48559839 27760.7302374  30129.97679708\n",
            " 30675.7794309  30756.89117644 28741.11980409 29555.83434119\n",
            " 27298.00404395 29850.99258996]\n"
          ]
        }
      ]
    },
    {
      "cell_type": "markdown",
      "source": [
        "Prosedur GA"
      ],
      "metadata": {
        "id": "oQSp4K6dkkYa"
      }
    },
    {
      "cell_type": "code",
      "source": [
        "#Inisialisai Parameter\n",
        "PCX = 0.95\n",
        "Pm = 0.01\n",
        "ukuranPopulasi = 10\n",
        "max_generasi = ((2000-ukuranPopulasi)//2)\n",
        "\n",
        "#Inisialisasi Populasi\n",
        "\n",
        "P = initPopulasi (ukuranPopulasi,jumlahLokasi)\n",
        "print(\"P0 :\",P)\n",
        "print(\"=========================================================================\")\n",
        "#melakukan Evaluasi P\n",
        "\n",
        "fitP = fungsiObjectif(P,daftarLokasi)\n",
        "print(\"fitness populasi awal :\",fitP)\n",
        "print(\"fitness terbaik awal :\",fitP.min())\n",
        "print(\"rute awal :\",P[fitP.argmin()])\n",
        "print(\"=========================================================================\")\n",
        "\n",
        "for i in range(max_generasi):\n",
        "  Induk = seleksi(P,fitP)\n",
        "  #print(\"Induk :\",Induk)\n",
        "\n",
        "  Anak = Induk\n",
        "\n",
        "  rxo = random.random()\n",
        "\n",
        "  if rxo < PCX:\n",
        "    Anak = PMX(Induk)\n",
        "\n",
        "    rm = random.random()\n",
        "    if rm < Pm:\n",
        "      Anak = MutasiSwap(Anak)\n",
        "\n",
        "    fitAnak = fungsiObjectif(Anak,daftarLokasi)\n",
        "    #print(\"fitAnak :\",fitAnak)\n",
        "\n",
        "    [P,fitP] = Elitism (P,Anak,fitP,fitAnak)\n",
        "\n",
        "print(\"fitness populasi akhir :\",fitP)\n",
        "print(\"fitness akhir :\",fitP.min())\n",
        "print(\"rute akhir :\",P[fitP.argmin()])\n"
      ],
      "metadata": {
        "colab": {
          "base_uri": "https://localhost:8080/"
        },
        "id": "Rv_6wqZWkmLy",
        "outputId": "d8500852-e05c-43af-f3a8-2b25384909a1"
      },
      "execution_count": null,
      "outputs": [
        {
          "output_type": "stream",
          "name": "stdout",
          "text": [
            "P0 : [[51 18 37 25 27 11 43 46 30 21 31 48 40 42  0 33 16 19  1 23  7 38  9 50\n",
            "  26  4  2 36 13 29 17 24 35 15 41 14 47  6  3 20 22 34 28 44 39  8 49 45\n",
            "  32 12 10  5]\n",
            " [38 42 50 49  2 31 47 15 46  7 12 40 23 37 17 45 22  8  4 28 18  0 10 26\n",
            "   5 34  3 24 27 11 41 51  9  1 21 29  6 13 32 16 20 44 39 30 14 35 19 43\n",
            "  48 36 33 25]\n",
            " [43 25 15 32 36  2 17 10 24 33 48  1 16 27 28  3 49  7 35 46 50 26 20  0\n",
            "  31 47 41 12 30 29 39 19 11  4 45  5 14 42 18  8  6 38 23 21 22 40 51  9\n",
            "  34 37 44 13]\n",
            " [26  3 33 38 22 16 39  4 29 30 25 19 24 34 51  9 12 36 43 35 41  0 13 20\n",
            "  17 40 14 46 45 47 10 23  8  1 21  5 37  6 32 50 44 31 42 18  2 11  7 48\n",
            "  49 15 28 27]\n",
            " [40 43  5  0 46 29  6 11 30 12 24 49 50 39 47 21 27 33 38 41 35 32 25  8\n",
            "  31 45 51 20 14  9  3 23 36  7 17 28 37 26 42 22 13 15  4 44 10  2 34  1\n",
            "  18 19 48 16]\n",
            " [29 11 30 45 19 34 49 40 36  8 17 31 50 42 43 38 23 20 27 33  7 10 15 12\n",
            "   9 24 48 47 21  5 35  1 44 51 37 26 46 32 25 18 22  0  2 13 14 39  6 16\n",
            "  28  4  3 41]\n",
            " [ 5 12 44 37 30 48 40  2 14 21 33  3  9 19 32 16 26 23 39  8  0 43 31 47\n",
            "  49 38 22 15 20 42 27 41 35 17  6 28 51  7 34 50 13 10 36 11  4 25  1 46\n",
            "  18 29 45 24]\n",
            " [46  4 35  6 25 42 13 40  1 26 37  9 19  0 16 39 47  3 21  2 15 48  8 32\n",
            "  49 18 33 51 14 43 34 28 17 29  7 44 41 11 38 24  5 31 36 10 20 30 50 23\n",
            "  12 27 45 22]\n",
            " [25 13  9 35 22 27 10  5 19 14 12 49 28 37 41  3 36 17  6 50 44 23 15 48\n",
            "  33 51 46  1 21  7  4 11 39 30 38  2 40 43  8 34 31 18 16  0 20 29 47 32\n",
            "  45 26 24 42]\n",
            " [ 6 21  1 11  5 30 26 38 49 14 31 45 33 35 16 19 24  7  2 32 13 51 17 20\n",
            "  23 48 36 44 18 25 29 12 37  8 28  4  3 22 27 34 41 10  0 46  9 47 15 40\n",
            "  42 39 43 50]]\n",
            "=========================================================================\n",
            "fitness populasi awal : [28123.70593395 29373.66324837 29988.29756525 28837.99889632\n",
            " 32159.5925249  31067.23574767 30038.705148   30453.52462108\n",
            " 27833.42311179 31561.24416661]\n",
            "fitness terbaik awal : 27833.423111787797\n",
            "rute awal : [25 13  9 35 22 27 10  5 19 14 12 49 28 37 41  3 36 17  6 50 44 23 15 48\n",
            " 33 51 46  1 21  7  4 11 39 30 38  2 40 43  8 34 31 18 16  0 20 29 47 32\n",
            " 45 26 24 42]\n",
            "=========================================================================\n",
            "fitness populasi akhir : [24376.72582543 24376.72582543 24376.72582543 24376.72582543\n",
            " 24376.72582543 24376.72582543 24376.72582543 24376.72582543\n",
            " 24376.72582543 24376.72582543]\n",
            "fitness akhir : 24376.72582543304\n",
            "rute akhir : [29 18 37 25 27 11 46 30 21 31 48 40 42  0 33 16 19  1 23 39 38  9 50 26\n",
            "  4 15  8 34 43 47 32 45 24 10  5 14 12 49 28 41  3 36 17  6 44  7 51 13\n",
            " 35 22 20  2]\n"
          ]
        }
      ]
    }
  ]
}